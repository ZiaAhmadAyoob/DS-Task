{
 "cells": [
  {
   "cell_type": "markdown",
   "id": "ed640760-103a-4a02-8872-1b0e649947fe",
   "metadata": {},
   "source": [
    "# 1. Data Cleaning\n",
    " - Check for missing values and handle them.\n",
    " - Convert Date to datetime format.\n",
    " - Ensure all numeric columns are of correct type (use pd.to_numeric if needed)."
   ]
  },
  {
   "cell_type": "code",
   "execution_count": 2,
   "id": "3be84cb2-be6d-46ad-947f-c39f552725ee",
   "metadata": {},
   "outputs": [],
   "source": [
    "import matplotlib.pyplot as plt\n",
    "import pandas as pd\n",
    "import numpy as np"
   ]
  },
  {
   "cell_type": "code",
   "execution_count": 3,
   "id": "b0531921-cb40-41cd-9d78-04e833f5a0e6",
   "metadata": {
    "scrolled": true
   },
   "outputs": [
    {
     "ename": "FileNotFoundError",
     "evalue": "[Errno 2] No such file or directory: 'data1.csv'",
     "output_type": "error",
     "traceback": [
      "\u001b[1;31m---------------------------------------------------------------------------\u001b[0m",
      "\u001b[1;31mFileNotFoundError\u001b[0m                         Traceback (most recent call last)",
      "Cell \u001b[1;32mIn[3], line 1\u001b[0m\n\u001b[1;32m----> 1\u001b[0m df \u001b[38;5;241m=\u001b[39m pd\u001b[38;5;241m.\u001b[39mread_csv(\u001b[38;5;124m'\u001b[39m\u001b[38;5;124mdata1.csv\u001b[39m\u001b[38;5;124m'\u001b[39m)\n",
      "File \u001b[1;32m~\\anaconda3\\Lib\\site-packages\\pandas\\io\\parsers\\readers.py:1026\u001b[0m, in \u001b[0;36mread_csv\u001b[1;34m(filepath_or_buffer, sep, delimiter, header, names, index_col, usecols, dtype, engine, converters, true_values, false_values, skipinitialspace, skiprows, skipfooter, nrows, na_values, keep_default_na, na_filter, verbose, skip_blank_lines, parse_dates, infer_datetime_format, keep_date_col, date_parser, date_format, dayfirst, cache_dates, iterator, chunksize, compression, thousands, decimal, lineterminator, quotechar, quoting, doublequote, escapechar, comment, encoding, encoding_errors, dialect, on_bad_lines, delim_whitespace, low_memory, memory_map, float_precision, storage_options, dtype_backend)\u001b[0m\n\u001b[0;32m   1013\u001b[0m kwds_defaults \u001b[38;5;241m=\u001b[39m _refine_defaults_read(\n\u001b[0;32m   1014\u001b[0m     dialect,\n\u001b[0;32m   1015\u001b[0m     delimiter,\n\u001b[1;32m   (...)\u001b[0m\n\u001b[0;32m   1022\u001b[0m     dtype_backend\u001b[38;5;241m=\u001b[39mdtype_backend,\n\u001b[0;32m   1023\u001b[0m )\n\u001b[0;32m   1024\u001b[0m kwds\u001b[38;5;241m.\u001b[39mupdate(kwds_defaults)\n\u001b[1;32m-> 1026\u001b[0m \u001b[38;5;28;01mreturn\u001b[39;00m _read(filepath_or_buffer, kwds)\n",
      "File \u001b[1;32m~\\anaconda3\\Lib\\site-packages\\pandas\\io\\parsers\\readers.py:620\u001b[0m, in \u001b[0;36m_read\u001b[1;34m(filepath_or_buffer, kwds)\u001b[0m\n\u001b[0;32m    617\u001b[0m _validate_names(kwds\u001b[38;5;241m.\u001b[39mget(\u001b[38;5;124m\"\u001b[39m\u001b[38;5;124mnames\u001b[39m\u001b[38;5;124m\"\u001b[39m, \u001b[38;5;28;01mNone\u001b[39;00m))\n\u001b[0;32m    619\u001b[0m \u001b[38;5;66;03m# Create the parser.\u001b[39;00m\n\u001b[1;32m--> 620\u001b[0m parser \u001b[38;5;241m=\u001b[39m TextFileReader(filepath_or_buffer, \u001b[38;5;241m*\u001b[39m\u001b[38;5;241m*\u001b[39mkwds)\n\u001b[0;32m    622\u001b[0m \u001b[38;5;28;01mif\u001b[39;00m chunksize \u001b[38;5;129;01mor\u001b[39;00m iterator:\n\u001b[0;32m    623\u001b[0m     \u001b[38;5;28;01mreturn\u001b[39;00m parser\n",
      "File \u001b[1;32m~\\anaconda3\\Lib\\site-packages\\pandas\\io\\parsers\\readers.py:1620\u001b[0m, in \u001b[0;36mTextFileReader.__init__\u001b[1;34m(self, f, engine, **kwds)\u001b[0m\n\u001b[0;32m   1617\u001b[0m     \u001b[38;5;28mself\u001b[39m\u001b[38;5;241m.\u001b[39moptions[\u001b[38;5;124m\"\u001b[39m\u001b[38;5;124mhas_index_names\u001b[39m\u001b[38;5;124m\"\u001b[39m] \u001b[38;5;241m=\u001b[39m kwds[\u001b[38;5;124m\"\u001b[39m\u001b[38;5;124mhas_index_names\u001b[39m\u001b[38;5;124m\"\u001b[39m]\n\u001b[0;32m   1619\u001b[0m \u001b[38;5;28mself\u001b[39m\u001b[38;5;241m.\u001b[39mhandles: IOHandles \u001b[38;5;241m|\u001b[39m \u001b[38;5;28;01mNone\u001b[39;00m \u001b[38;5;241m=\u001b[39m \u001b[38;5;28;01mNone\u001b[39;00m\n\u001b[1;32m-> 1620\u001b[0m \u001b[38;5;28mself\u001b[39m\u001b[38;5;241m.\u001b[39m_engine \u001b[38;5;241m=\u001b[39m \u001b[38;5;28mself\u001b[39m\u001b[38;5;241m.\u001b[39m_make_engine(f, \u001b[38;5;28mself\u001b[39m\u001b[38;5;241m.\u001b[39mengine)\n",
      "File \u001b[1;32m~\\anaconda3\\Lib\\site-packages\\pandas\\io\\parsers\\readers.py:1880\u001b[0m, in \u001b[0;36mTextFileReader._make_engine\u001b[1;34m(self, f, engine)\u001b[0m\n\u001b[0;32m   1878\u001b[0m     \u001b[38;5;28;01mif\u001b[39;00m \u001b[38;5;124m\"\u001b[39m\u001b[38;5;124mb\u001b[39m\u001b[38;5;124m\"\u001b[39m \u001b[38;5;129;01mnot\u001b[39;00m \u001b[38;5;129;01min\u001b[39;00m mode:\n\u001b[0;32m   1879\u001b[0m         mode \u001b[38;5;241m+\u001b[39m\u001b[38;5;241m=\u001b[39m \u001b[38;5;124m\"\u001b[39m\u001b[38;5;124mb\u001b[39m\u001b[38;5;124m\"\u001b[39m\n\u001b[1;32m-> 1880\u001b[0m \u001b[38;5;28mself\u001b[39m\u001b[38;5;241m.\u001b[39mhandles \u001b[38;5;241m=\u001b[39m get_handle(\n\u001b[0;32m   1881\u001b[0m     f,\n\u001b[0;32m   1882\u001b[0m     mode,\n\u001b[0;32m   1883\u001b[0m     encoding\u001b[38;5;241m=\u001b[39m\u001b[38;5;28mself\u001b[39m\u001b[38;5;241m.\u001b[39moptions\u001b[38;5;241m.\u001b[39mget(\u001b[38;5;124m\"\u001b[39m\u001b[38;5;124mencoding\u001b[39m\u001b[38;5;124m\"\u001b[39m, \u001b[38;5;28;01mNone\u001b[39;00m),\n\u001b[0;32m   1884\u001b[0m     compression\u001b[38;5;241m=\u001b[39m\u001b[38;5;28mself\u001b[39m\u001b[38;5;241m.\u001b[39moptions\u001b[38;5;241m.\u001b[39mget(\u001b[38;5;124m\"\u001b[39m\u001b[38;5;124mcompression\u001b[39m\u001b[38;5;124m\"\u001b[39m, \u001b[38;5;28;01mNone\u001b[39;00m),\n\u001b[0;32m   1885\u001b[0m     memory_map\u001b[38;5;241m=\u001b[39m\u001b[38;5;28mself\u001b[39m\u001b[38;5;241m.\u001b[39moptions\u001b[38;5;241m.\u001b[39mget(\u001b[38;5;124m\"\u001b[39m\u001b[38;5;124mmemory_map\u001b[39m\u001b[38;5;124m\"\u001b[39m, \u001b[38;5;28;01mFalse\u001b[39;00m),\n\u001b[0;32m   1886\u001b[0m     is_text\u001b[38;5;241m=\u001b[39mis_text,\n\u001b[0;32m   1887\u001b[0m     errors\u001b[38;5;241m=\u001b[39m\u001b[38;5;28mself\u001b[39m\u001b[38;5;241m.\u001b[39moptions\u001b[38;5;241m.\u001b[39mget(\u001b[38;5;124m\"\u001b[39m\u001b[38;5;124mencoding_errors\u001b[39m\u001b[38;5;124m\"\u001b[39m, \u001b[38;5;124m\"\u001b[39m\u001b[38;5;124mstrict\u001b[39m\u001b[38;5;124m\"\u001b[39m),\n\u001b[0;32m   1888\u001b[0m     storage_options\u001b[38;5;241m=\u001b[39m\u001b[38;5;28mself\u001b[39m\u001b[38;5;241m.\u001b[39moptions\u001b[38;5;241m.\u001b[39mget(\u001b[38;5;124m\"\u001b[39m\u001b[38;5;124mstorage_options\u001b[39m\u001b[38;5;124m\"\u001b[39m, \u001b[38;5;28;01mNone\u001b[39;00m),\n\u001b[0;32m   1889\u001b[0m )\n\u001b[0;32m   1890\u001b[0m \u001b[38;5;28;01massert\u001b[39;00m \u001b[38;5;28mself\u001b[39m\u001b[38;5;241m.\u001b[39mhandles \u001b[38;5;129;01mis\u001b[39;00m \u001b[38;5;129;01mnot\u001b[39;00m \u001b[38;5;28;01mNone\u001b[39;00m\n\u001b[0;32m   1891\u001b[0m f \u001b[38;5;241m=\u001b[39m \u001b[38;5;28mself\u001b[39m\u001b[38;5;241m.\u001b[39mhandles\u001b[38;5;241m.\u001b[39mhandle\n",
      "File \u001b[1;32m~\\anaconda3\\Lib\\site-packages\\pandas\\io\\common.py:873\u001b[0m, in \u001b[0;36mget_handle\u001b[1;34m(path_or_buf, mode, encoding, compression, memory_map, is_text, errors, storage_options)\u001b[0m\n\u001b[0;32m    868\u001b[0m \u001b[38;5;28;01melif\u001b[39;00m \u001b[38;5;28misinstance\u001b[39m(handle, \u001b[38;5;28mstr\u001b[39m):\n\u001b[0;32m    869\u001b[0m     \u001b[38;5;66;03m# Check whether the filename is to be opened in binary mode.\u001b[39;00m\n\u001b[0;32m    870\u001b[0m     \u001b[38;5;66;03m# Binary mode does not support 'encoding' and 'newline'.\u001b[39;00m\n\u001b[0;32m    871\u001b[0m     \u001b[38;5;28;01mif\u001b[39;00m ioargs\u001b[38;5;241m.\u001b[39mencoding \u001b[38;5;129;01mand\u001b[39;00m \u001b[38;5;124m\"\u001b[39m\u001b[38;5;124mb\u001b[39m\u001b[38;5;124m\"\u001b[39m \u001b[38;5;129;01mnot\u001b[39;00m \u001b[38;5;129;01min\u001b[39;00m ioargs\u001b[38;5;241m.\u001b[39mmode:\n\u001b[0;32m    872\u001b[0m         \u001b[38;5;66;03m# Encoding\u001b[39;00m\n\u001b[1;32m--> 873\u001b[0m         handle \u001b[38;5;241m=\u001b[39m \u001b[38;5;28mopen\u001b[39m(\n\u001b[0;32m    874\u001b[0m             handle,\n\u001b[0;32m    875\u001b[0m             ioargs\u001b[38;5;241m.\u001b[39mmode,\n\u001b[0;32m    876\u001b[0m             encoding\u001b[38;5;241m=\u001b[39mioargs\u001b[38;5;241m.\u001b[39mencoding,\n\u001b[0;32m    877\u001b[0m             errors\u001b[38;5;241m=\u001b[39merrors,\n\u001b[0;32m    878\u001b[0m             newline\u001b[38;5;241m=\u001b[39m\u001b[38;5;124m\"\u001b[39m\u001b[38;5;124m\"\u001b[39m,\n\u001b[0;32m    879\u001b[0m         )\n\u001b[0;32m    880\u001b[0m     \u001b[38;5;28;01melse\u001b[39;00m:\n\u001b[0;32m    881\u001b[0m         \u001b[38;5;66;03m# Binary mode\u001b[39;00m\n\u001b[0;32m    882\u001b[0m         handle \u001b[38;5;241m=\u001b[39m \u001b[38;5;28mopen\u001b[39m(handle, ioargs\u001b[38;5;241m.\u001b[39mmode)\n",
      "\u001b[1;31mFileNotFoundError\u001b[0m: [Errno 2] No such file or directory: 'data1.csv'"
     ]
    }
   ],
   "source": [
    "df = pd.read_csv('data1.csv')"
   ]
  },
  {
   "cell_type": "code",
   "execution_count": null,
   "id": "201aadc0-485d-4415-bfc5-f10c0aad6a43",
   "metadata": {},
   "outputs": [],
   "source": [
    "df = df.dropna()"
   ]
  },
  {
   "cell_type": "code",
   "execution_count": null,
   "id": "f70f4026-d44e-436b-9f9e-0d4812dbb9ef",
   "metadata": {},
   "outputs": [],
   "source": [
    "df.isnull().sum()"
   ]
  },
  {
   "cell_type": "code",
   "execution_count": null,
   "id": "1aeee707-690a-42fd-8d40-22f6acd71678",
   "metadata": {},
   "outputs": [],
   "source": [
    "df['Date'] = pd.to_datetime(df['Date'])\n",
    "df"
   ]
  },
  {
   "cell_type": "code",
   "execution_count": null,
   "id": "28ca8b17-1995-4f98-abe8-38560287da93",
   "metadata": {},
   "outputs": [],
   "source": [
    "df.info()"
   ]
  },
  {
   "cell_type": "markdown",
   "id": "69a4da8d-e05d-4f71-ac22-34bb3106d790",
   "metadata": {},
   "source": [
    "# 2. Descriptive Analysis\n",
    " - Calculate total revenue, average order value, total units sold.\n",
    " - Group data by Category and show total revenue and average rating.\n",
    " - Find the top 5 products with the highest revenue."
   ]
  },
  {
   "cell_type": "code",
   "execution_count": null,
   "id": "aefd9658-1b4a-4958-91a4-6b57b1f1b719",
   "metadata": {},
   "outputs": [],
   "source": [
    "df['Total Revenue'].sum()"
   ]
  },
  {
   "cell_type": "code",
   "execution_count": null,
   "id": "853e1353-bb73-4954-860a-afe125018214",
   "metadata": {},
   "outputs": [],
   "source": [
    "df['Total Revenue'].mean()"
   ]
  },
  {
   "cell_type": "code",
   "execution_count": null,
   "id": "53afed37-3572-4584-a1a8-96bad4e27f1a",
   "metadata": {},
   "outputs": [],
   "source": [
    "df['Sold'].sum()"
   ]
  },
  {
   "cell_type": "code",
   "execution_count": null,
   "id": "0dc52c4e-8996-420d-ba1d-c074d600e803",
   "metadata": {},
   "outputs": [],
   "source": [
    "df['Customer Rating'] = pd.to_numeric(df['Customer Rating'], errors='coerce')"
   ]
  },
  {
   "cell_type": "code",
   "execution_count": null,
   "id": "eb358f77-f4a9-4feb-a02d-e9c154e33a78",
   "metadata": {},
   "outputs": [],
   "source": [
    "df = df.fillna(0)"
   ]
  },
  {
   "cell_type": "code",
   "execution_count": null,
   "id": "46063416-2e50-4845-96eb-9b3778953200",
   "metadata": {},
   "outputs": [],
   "source": [
    "df.groupby('Category').agg({\n",
    "    'Total Revenue': 'sum',\n",
    "    'Customer Rating': 'mean'\n",
    "}).sort_values('Total Revenue', ascending=False)"
   ]
  },
  {
   "cell_type": "code",
   "execution_count": null,
   "id": "755debdc-cd4c-4bd0-b4db-58c7e863104f",
   "metadata": {},
   "outputs": [],
   "source": [
    "df.groupby('Product')['Total Revenue'].sum().sort_values(ascending=False).head(5)"
   ]
  },
  {
   "cell_type": "markdown",
   "id": "4b0c993c-a738-49d9-8c8d-7f51fb554137",
   "metadata": {},
   "source": [
    "# 3. City-wise Analysis\n",
    " - Compare revenue and average rating per city.\n",
    " - Plot a bar chart of total revenue per city."
   ]
  },
  {
   "cell_type": "code",
   "execution_count": null,
   "id": "610cf039-e9ac-43f1-a533-92952f6ad44a",
   "metadata": {},
   "outputs": [],
   "source": [
    "import matplotlib.pyplot as pt\n",
    "import pandas as pd\n",
    "import numpy as np"
   ]
  },
  {
   "cell_type": "code",
   "execution_count": null,
   "id": "c0ac2c6f-d23b-4a48-bfb0-5e6f6dea55ee",
   "metadata": {},
   "outputs": [],
   "source": [
    "city_stats = df.groupby('City').agg({\n",
    "    'Total Revenue': 'sum',\n",
    "    'Customer Rating': 'mean'\n",
    "}).reset_index()\n",
    "\n",
    "pt.plot(city_stats['City'], city_stats['Customer Rating'], color='red', marker='o', linestyle='--', label='Avg Customer Rating')\n",
    "pt.title(\"Comparison: Total Revenue and Average Customer Rating per City\")\n",
    "pt.xlabel(\"Revenue\", color='green', loc='left')\n",
    "pt.ylabel('Average Customer Rating', color='red')\n",
    "pt.xticks(rotation=45)  \n",
    "pt.grid(axis='y', linestyle='--', alpha=0.7)\n",
    "pt.legend()\n",
    "pt.tight_layout()\n",
    "pt.show()"
   ]
  },
  {
   "cell_type": "code",
   "execution_count": null,
   "id": "c02df29f-a8d7-4f21-b2f2-1c9bd5cdf3be",
   "metadata": {},
   "outputs": [],
   "source": [
    "city_stats = df.groupby('City').agg({\n",
    "    'Total Revenue': 'sum'\n",
    "}).reset_index()\n",
    "\n",
    "pt.bar(city_stats['City'], city_stats['Total Revenue'], color='g',ls='--', label='Total Revenue')\n",
    "\n",
    "pt.title(\"Comparison: Total Revenue per City\")\n",
    "pt.xlabel(\"City\", color='green', loc='left')\n",
    "pt.ylabel('Revenue', color='red')\n",
    "pt.xticks(rotation=45)  \n",
    "pt.grid(axis='y', ls='--', alpha=0.7)\n",
    "pt.legend()\n",
    "pt.tight_layout()\n",
    "pt.show()"
   ]
  },
  {
   "cell_type": "markdown",
   "id": "152658d2-413a-43e6-a71c-ba5ce02ae612",
   "metadata": {},
   "source": [
    "# 4. Monthly Trends\n",
    " - Extract month from the Date column.\n",
    " - Analyze monthly revenue trend using a line plot.\n",
    " - Find which month had the highest and lowest sales (using NumPy's argmax /argmin )"
   ]
  },
  {
   "cell_type": "code",
   "execution_count": null,
   "id": "1e6fe4ea-7a8d-45a9-b494-aae9bfd8f477",
   "metadata": {},
   "outputs": [],
   "source": [
    "import matplotlib.pyplot as pt\n",
    "import pandas as pd\n",
    "import numpy as np"
   ]
  },
  {
   "cell_type": "code",
   "execution_count": null,
   "id": "1308eff1-c30c-4e8f-a376-1f64031c486d",
   "metadata": {
    "scrolled": true
   },
   "outputs": [],
   "source": [
    "df['Date'] = pd.to_datetime(df['Date'])\n",
    "y = df['Month Name'] = df['Date'].dt.month_name()\n",
    "print(y.to_string())"
   ]
  },
  {
   "cell_type": "code",
   "execution_count": null,
   "id": "774a9a77-c086-4f47-87dd-2ee55254befa",
   "metadata": {},
   "outputs": [],
   "source": [
    "monthly_revenue = df.groupby('Month Name')['Total Revenue'].sum()\n",
    "monthly_revenue_df = monthly_revenue.reset_index()\n",
    "pt.plot(monthly_revenue_df['Month Name'], monthly_revenue_df['Total Revenue'],color='g',ls='--', label='Total Revenue')\n",
    "pt.title(\"Monthly Revenue Trend\")\n",
    "pt.xlabel(\"Month\", color='green', loc='left')\n",
    "pt.ylabel('Revenue', color='red')\n",
    "pt.xticks(rotation=45)  \n",
    "pt.grid(ls='--', alpha=0.7)\n",
    "pt.legend()\n",
    "pt.tight_layout()\n",
    "pt.show()"
   ]
  },
  {
   "cell_type": "code",
   "execution_count": null,
   "id": "a8e3c2d0-f6ac-49dc-9591-82767d263988",
   "metadata": {},
   "outputs": [],
   "source": [
    "monthly_revenue = df.groupby('Month Name')['Total Revenue'].sum()\n",
    "month_names = monthly_revenue.index.to_numpy()\n",
    "sales_values = monthly_revenue.values\n",
    "\n",
    "max_index = np.argmax(sales_values)\n",
    "min_index = np.argmin(sales_values)\n",
    "\n",
    "best_month = month_names[max_index]\n",
    "worst_month = month_names[min_index]\n",
    "print(best_month)\n",
    "print(worst_month)"
   ]
  },
  {
   "cell_type": "markdown",
   "id": "481b2ad8-d171-421f-b25f-c600d135ec38",
   "metadata": {},
   "source": [
    "# Bonus (Use of NumPy)\n",
    " - Use NumPy to calculate:\n",
    "1. Standard deviation of revenue.\n",
    "2. Z-score of revenue to detect outlier sales.\n",
    "3. Use np.where() to identify orders with revenue above average."
   ]
  },
  {
   "cell_type": "code",
   "execution_count": null,
   "id": "f280457b-d0f0-44aa-aff9-e3b4b79008f9",
   "metadata": {},
   "outputs": [],
   "source": [
    "np.std(sales_values)"
   ]
  },
  {
   "cell_type": "code",
   "execution_count": null,
   "id": "a04b48ee-1786-406e-91d4-a27f4c88bb95",
   "metadata": {},
   "outputs": [],
   "source": [
    "mean = np.mean(sales_values)\n",
    "std = np.std(sales_values)\n",
    "z_scores = (sales_values - mean) / std\n",
    "print(z_scores)\n",
    "outlier_index = np.argmax(z_scores)\n",
    "outlier_month = month_names[outlier_index]\n",
    "outlier_value = sales_values[outlier_index]\n",
    "print(outlier_index)\n",
    "print(outlier_month)\n",
    "print(outlier_value)"
   ]
  },
  {
   "cell_type": "code",
   "execution_count": null,
   "id": "498e98f8-a9fa-46ae-847f-e500a9fc249b",
   "metadata": {},
   "outputs": [],
   "source": [
    "import numpy as np\n",
    "revenue = df['Total Revenue'].values\n",
    "mean_revenue = np.mean(revenue)\n",
    "above_avg_indices = np.where(revenue > mean_revenue)\n",
    "above_avg_orders = df.iloc[above_avg_indices]\n",
    "print(above_avg_orders)"
   ]
  },
  {
   "cell_type": "code",
   "execution_count": null,
   "id": "5d70051b-b438-4853-a862-90a23d174cad",
   "metadata": {},
   "outputs": [],
   "source": []
  },
  {
   "cell_type": "code",
   "execution_count": null,
   "id": "1324f0ea-6c03-4d89-9ee5-52d28aa2ece8",
   "metadata": {},
   "outputs": [],
   "source": []
  },
  {
   "cell_type": "code",
   "execution_count": null,
   "id": "4c12a7fd-81aa-4f70-9c4a-c0563c1d1cd8",
   "metadata": {},
   "outputs": [],
   "source": []
  },
  {
   "cell_type": "code",
   "execution_count": null,
   "id": "7ac8840a-1e64-4d01-ab7d-329a212f79fa",
   "metadata": {},
   "outputs": [],
   "source": []
  },
  {
   "cell_type": "code",
   "execution_count": null,
   "id": "1c56fc7a-bff0-41e8-9342-370499a979d0",
   "metadata": {},
   "outputs": [],
   "source": []
  },
  {
   "cell_type": "code",
   "execution_count": null,
   "id": "fefb23cd-4cd4-4142-ad03-48b4355595e4",
   "metadata": {},
   "outputs": [],
   "source": []
  },
  {
   "cell_type": "code",
   "execution_count": null,
   "id": "ffd107aa-4622-4d10-bcfb-d5e11af7d4f9",
   "metadata": {},
   "outputs": [],
   "source": []
  },
  {
   "cell_type": "markdown",
   "id": "5e35e094-c215-4e6a-9f17-5dea24a63be7",
   "metadata": {},
   "source": [
    "#  Data Analysis of Online Course Platform – EduTech Insights (zia)"
   ]
  },
  {
   "cell_type": "markdown",
   "id": "f0211433-ae3a-4b52-a1e5-31b789dad16d",
   "metadata": {},
   "source": [
    "## 27 JULY 2025"
   ]
  },
  {
   "cell_type": "code",
   "execution_count": null,
   "id": "67e912a6-f848-44ae-9f5f-65abfa67827d",
   "metadata": {},
   "outputs": [],
   "source": [
    "import pandas as pd\n",
    "import numpy as np\n",
    "import matplotlib.pyplot as pt"
   ]
  },
  {
   "cell_type": "markdown",
   "id": "e360e84b-2456-4017-85b7-20c198ea1017",
   "metadata": {},
   "source": [
    "# Part 1: Data Cleaning\n",
    "- Load the dataset using pandas.\n",
    "- Handle missing values in `City` and `Course Fee` :\n",
    "> Fill with appropriate values or drop rows.\n",
    "- Convert `Enrollment Date` to datetime.\n",
    "- Create a new column: `Month` (extract from date)"
   ]
  },
  {
   "cell_type": "code",
   "execution_count": null,
   "id": "6cc05f7f-a01d-4744-b3ab-ce0107d7c488",
   "metadata": {},
   "outputs": [],
   "source": [
    "df = pd.read_csv('online_course_data.csv')"
   ]
  },
  {
   "cell_type": "code",
   "execution_count": null,
   "id": "c2134423-6c2d-4e1d-b810-4c836800da80",
   "metadata": {},
   "outputs": [],
   "source": [
    "df['Enrollment Date'] = pd.to_datetime(df['Enrollment Date'], dayfirst=True)"
   ]
  },
  {
   "cell_type": "code",
   "execution_count": null,
   "id": "fee83436-7857-4224-aeef-87077aec2aca",
   "metadata": {},
   "outputs": [],
   "source": [
    "df['City'] = df['City'].fillna('GHQ')"
   ]
  },
  {
   "cell_type": "code",
   "execution_count": null,
   "id": "b4f221ae-ca21-4d23-90bb-341d7fb9a8e3",
   "metadata": {},
   "outputs": [],
   "source": [
    "df['Course Fee'] = df['Course Fee'].fillna(df['Course Fee'].mean())"
   ]
  },
  {
   "cell_type": "code",
   "execution_count": null,
   "id": "035116e9-e45c-40a4-a411-96d9b53f52dc",
   "metadata": {},
   "outputs": [],
   "source": [
    "df['Revenue'] = df['Revenue'].fillna(df['Revenue'].mean())"
   ]
  },
  {
   "cell_type": "code",
   "execution_count": null,
   "id": "63724954-b9fc-47c4-bf93-422d9927191d",
   "metadata": {},
   "outputs": [],
   "source": [
    "df['Month'] = df['Enrollment Date'].dt.to_period('M')"
   ]
  },
  {
   "cell_type": "code",
   "execution_count": null,
   "id": "b00b87aa-0a5e-4378-aaa6-ed123237f00e",
   "metadata": {},
   "outputs": [],
   "source": [
    "df.isnull().sum()"
   ]
  },
  {
   "cell_type": "code",
   "execution_count": null,
   "id": "f8005ddf-b765-4b3b-9e27-38c95c69eb71",
   "metadata": {},
   "outputs": [],
   "source": [
    "df.info()"
   ]
  },
  {
   "cell_type": "markdown",
   "id": "505c1b75-e090-44d9-a263-54f585382ccb",
   "metadata": {},
   "source": [
    "# Part 2: Analysis\n",
    "1. Total revenue for the year.\n",
    "2. Top 3 courses by:\n",
    "    - Revenue\n",
    "    - Number of enrollments\n",
    "3. Instructor-wise performance:\n",
    "    - Total revenue generated by each instructor\n",
    "    - Average enrollments per instructor\n",
    "4. City-wise popularity of courses."
   ]
  },
  {
   "cell_type": "code",
   "execution_count": null,
   "id": "3c3a5564-65f2-4ac4-bb5f-24f87d171aef",
   "metadata": {},
   "outputs": [],
   "source": [
    "df['Revenue'].sum()"
   ]
  },
  {
   "cell_type": "code",
   "execution_count": null,
   "id": "b5ffa502-529b-4cae-ad31-466c1b25b7e8",
   "metadata": {},
   "outputs": [],
   "source": [
    "df.groupby('Enrollments')['Revenue'].sum().sort_values(ascending = False).head(3)"
   ]
  },
  {
   "cell_type": "code",
   "execution_count": null,
   "id": "8537483d-5fed-4327-a95b-7f3d2ffc370b",
   "metadata": {},
   "outputs": [],
   "source": [
    "# Average enrollments per instructor\n",
    "df.groupby('Instructor')['Enrollments'].mean()"
   ]
  },
  {
   "cell_type": "code",
   "execution_count": null,
   "id": "103f89aa-6b57-48c6-9112-77cda251078e",
   "metadata": {},
   "outputs": [],
   "source": [
    "# Total revenue generated by each instructor\n",
    "Instructor_wise_revenue = df.groupby('Instructor')['Revenue'].sum()"
   ]
  },
  {
   "cell_type": "code",
   "execution_count": null,
   "id": "ffd25e3c-9f40-4390-8213-39c4a31146cd",
   "metadata": {},
   "outputs": [],
   "source": [
    "# City-wise popularity of courses.\n",
    "df.groupby('City')['Enrollments'].sum()"
   ]
  },
  {
   "cell_type": "markdown",
   "id": "42d41e24-0d7f-476b-8e66-897a93542af4",
   "metadata": {},
   "source": [
    "# Part 3: Visualization (Use Matplotlib — 4 Different Graph Types Required)\n",
    "Create the following graphs:\n",
    "1. **Line Plot** – Monthly total revenue trend.\n",
    "2. **Bar Chart** – Top 5 courses by revenue.\n",
    "3. **Pie Chart** – Share of each category in total enrollments.\n",
    "4. **Stacked Bar or Horizontal Bar Plot** – Instructor-wise total revenue comparison.\n",
    ">`Optional: Use plt.xticks(rotation=45)` and color schemes to improve visuals."
   ]
  },
  {
   "cell_type": "code",
   "execution_count": null,
   "id": "c7f0bcd0-ea46-4536-a877-1e669af47bbb",
   "metadata": {},
   "outputs": [],
   "source": [
    "monthly_revenue = df.groupby('Instructor')['Enrollments'].mean()\n",
    "monthly_revenue.plot(kind='line',ls='--',color='g', marker='o',label='monthly_sales')\n",
    "pt.title(\"Monthly sales trends\")\n",
    "pt.xlabel(\"Names\")\n",
    "pt.ylabel(\"Total sales\")\n",
    "pt.grid(True)\n",
    "pt.legend()\n",
    "pt.tight_layout()\n",
    "pt.show()"
   ]
  },
  {
   "cell_type": "code",
   "execution_count": null,
   "id": "e98b0762-396d-4ffb-a474-36d647198e1f",
   "metadata": {},
   "outputs": [],
   "source": [
    "Course_revenue = df.groupby('Course Name')['Revenue'].sum().sort_values(ascending = False).head(5)\n",
    "Course_revenue.plot(kind='line',ls='--',color='r', marker='o',label='Courses Name')\n",
    "pt.title(\"Top 5 courses by revenue.\")\n",
    "pt.xlabel(\"Courses\")\n",
    "pt.ylabel(\"Revenue\")\n",
    "pt.grid(True)\n",
    "pt.legend()\n",
    "pt.tight_layout()\n",
    "pt.show()"
   ]
  },
  {
   "cell_type": "code",
   "execution_count": null,
   "id": "f70f47b2-c588-4291-be03-99e253df1187",
   "metadata": {},
   "outputs": [],
   "source": [
    "Category_share = df.groupby('Category')['Enrollments'].sum()\n",
    "pt.pie(Category_share,labels=Category_share.index,autopct='%1.1f%%',startangle=140,colors = ['#FF6F61','#6B5B95','#88B04B','#FFA500','#00CED1'])\n",
    "pt.title(\"Category-wise Revenue Share\")\n",
    "pt.axis('equal') \n",
    "pt.tight_layout()\n",
    "pt.show()"
   ]
  },
  {
   "cell_type": "code",
   "execution_count": null,
   "id": "c80478fa-28fd-4391-bf40-eddc3fb312c6",
   "metadata": {},
   "outputs": [],
   "source": [
    "Instructor_wise_revenue.plot(kind='line',ls='--',color='#FF5733', marker='o',label='Instructor wise revenue')\n",
    "pt.title(\"Instructor-wise total revenue comparison\")\n",
    "pt.xlabel(\"Instructor\")\n",
    "pt.ylabel(\"Revenue\")\n",
    "pt.grid(True)\n",
    "pt.legend()\n",
    "pt.tight_layout()\n",
    "pt.show()"
   ]
  }
 ],
 "metadata": {
  "kernelspec": {
   "display_name": "Python 3 (ipykernel)",
   "language": "python",
   "name": "python3"
  },
  "language_info": {
   "codemirror_mode": {
    "name": "ipython",
    "version": 3
   },
   "file_extension": ".py",
   "mimetype": "text/x-python",
   "name": "python",
   "nbconvert_exporter": "python",
   "pygments_lexer": "ipython3",
   "version": "3.13.5"
  }
 },
 "nbformat": 4,
 "nbformat_minor": 5
}
